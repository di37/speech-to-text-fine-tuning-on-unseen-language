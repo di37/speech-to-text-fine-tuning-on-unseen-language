{
 "cells": [
  {
   "cell_type": "code",
   "execution_count": 1,
   "metadata": {},
   "outputs": [],
   "source": [
    "from stt import SpeechTranscriber\n",
    "import pandas as pd"
   ]
  },
  {
   "cell_type": "code",
   "execution_count": 2,
   "metadata": {},
   "outputs": [],
   "source": [
    "test_df = pd.read_csv(\"data/language/dv/test_samples/validated.tsv\", sep=\"\\t\")\n",
    "test_sample = test_df.sample(5, random_state=42)\n",
    "test_sample = test_sample[[\"path\", \"sentence\"]]\n",
    "test_sample.reset_index(inplace=True, drop=True)"
   ]
  },
  {
   "cell_type": "code",
   "execution_count": 3,
   "metadata": {},
   "outputs": [
    {
     "data": {
      "text/html": [
       "<div>\n",
       "<style scoped>\n",
       "    .dataframe tbody tr th:only-of-type {\n",
       "        vertical-align: middle;\n",
       "    }\n",
       "\n",
       "    .dataframe tbody tr th {\n",
       "        vertical-align: top;\n",
       "    }\n",
       "\n",
       "    .dataframe thead th {\n",
       "        text-align: right;\n",
       "    }\n",
       "</style>\n",
       "<table border=\"1\" class=\"dataframe\">\n",
       "  <thead>\n",
       "    <tr style=\"text-align: right;\">\n",
       "      <th></th>\n",
       "      <th>path</th>\n",
       "      <th>sentence</th>\n",
       "    </tr>\n",
       "  </thead>\n",
       "  <tbody>\n",
       "    <tr>\n",
       "      <th>0</th>\n",
       "      <td>common_voice_dv_23583508.mp3</td>\n",
       "      <td>މި ތަނުން ފުންނާބު އުސް ފައިވާނަށް އަރައިގެން ...</td>\n",
       "    </tr>\n",
       "    <tr>\n",
       "      <th>1</th>\n",
       "      <td>common_voice_dv_27181806.mp3</td>\n",
       "      <td>ދިވެހިރާއްޖޭގައި ފަހަކަށް އައިސް ކޮންމެ ދުވަހަ...</td>\n",
       "    </tr>\n",
       "    <tr>\n",
       "      <th>2</th>\n",
       "      <td>common_voice_dv_25828239.mp3</td>\n",
       "      <td>ހަމަ އެއްކަރުދާހެއްގައި އެއްގަލަމަކުން އެއްކުލ...</td>\n",
       "    </tr>\n",
       "    <tr>\n",
       "      <th>3</th>\n",
       "      <td>common_voice_dv_26897309.mp3</td>\n",
       "      <td>ކުއްލިއަކަށް ހަނދާނަށް އައީ އަޅުގަނޑުގެ ވަރަށް...</td>\n",
       "    </tr>\n",
       "    <tr>\n",
       "      <th>4</th>\n",
       "      <td>common_voice_dv_26669954.mp3</td>\n",
       "      <td>މިއަދު އަހަންނަކީ ސަރުކާރު ވަޒިފާ އެއް އަދާ ކު...</td>\n",
       "    </tr>\n",
       "  </tbody>\n",
       "</table>\n",
       "</div>"
      ],
      "text/plain": [
       "                           path  \\\n",
       "0  common_voice_dv_23583508.mp3   \n",
       "1  common_voice_dv_27181806.mp3   \n",
       "2  common_voice_dv_25828239.mp3   \n",
       "3  common_voice_dv_26897309.mp3   \n",
       "4  common_voice_dv_26669954.mp3   \n",
       "\n",
       "                                            sentence  \n",
       "0  މި ތަނުން ފުންނާބު އުސް ފައިވާނަށް އަރައިގެން ...  \n",
       "1  ދިވެހިރާއްޖޭގައި ފަހަކަށް އައިސް ކޮންމެ ދުވަހަ...  \n",
       "2  ހަމަ އެއްކަރުދާހެއްގައި އެއްގަލަމަކުން އެއްކުލ...  \n",
       "3  ކުއްލިއަކަށް ހަނދާނަށް އައީ އަޅުގަނޑުގެ ވަރަށް...  \n",
       "4  މިއަދު އަހަންނަކީ ސަރުކާރު ވަޒިފާ އެއް އަދާ ކު...  "
      ]
     },
     "execution_count": 3,
     "metadata": {},
     "output_type": "execute_result"
    }
   ],
   "source": [
    "test_sample"
   ]
  },
  {
   "cell_type": "markdown",
   "metadata": {},
   "source": [
    "## Prediction Pipeline"
   ]
  },
  {
   "cell_type": "markdown",
   "metadata": {},
   "source": [
    "First we need to load the model"
   ]
  },
  {
   "cell_type": "code",
   "execution_count": 4,
   "metadata": {},
   "outputs": [
    {
     "name": "stderr",
     "output_type": "stream",
     "text": [
      "Special tokens have been added in the vocabulary, make sure the associated word embeddings are fine-tuned or trained.\n",
      "Special tokens have been added in the vocabulary, make sure the associated word embeddings are fine-tuned or trained.\n"
     ]
    }
   ],
   "source": [
    "# Usage example\n",
    "model_id = \"models/whisper-small-dv/checkpoint-2000\"  # update with your model id\n",
    "transcriber = SpeechTranscriber(model_id)"
   ]
  },
  {
   "cell_type": "markdown",
   "metadata": {},
   "source": [
    "Transcription as follows"
   ]
  },
  {
   "cell_type": "code",
   "execution_count": 8,
   "metadata": {},
   "outputs": [],
   "source": [
    "transcription_0 = transcriber.transcribe_speech(\"data/language/dv/test_samples/common_voice_dv_23583508.mp3\")\n",
    "transcription_1 = transcriber.transcribe_speech(\"data/language/dv/test_samples/common_voice_dv_27181806.mp3\")\n",
    "transcription_2 = transcriber.transcribe_speech(\"data/language/dv/test_samples/common_voice_dv_25828239.mp3\")\n",
    "transcription_3 = transcriber.transcribe_speech(\"data/language/dv/test_samples/common_voice_dv_26897309.mp3\")\n",
    "transcription_4 = transcriber.transcribe_speech(\"data/language/dv/test_samples/common_voice_dv_26669954.mp3\")"
   ]
  },
  {
   "cell_type": "markdown",
   "metadata": {},
   "source": [
    "Results for the new test samples as follows"
   ]
  },
  {
   "cell_type": "code",
   "execution_count": 10,
   "metadata": {},
   "outputs": [
    {
     "name": "stdout",
     "output_type": "stream",
     "text": [
      "Ground truth for audio - common_voice_dv_23583508.mp3: މިތަނުން ފުންނާބު އޮސް ވައިވާނަކަށް އަރައިގެން ހުރީ ކާގު\n",
      "Transcribed for audio - common_voice_dv_23583508.mp3: މި ތަނުން ފުންނާބު އުސް ފައިވާނަށް އަރައިގެން ހުރީ ކާކު؟\n",
      "---\n",
      "Ground truth for audio - common_voice_dv_27181806.mp3: ދިވެހިރާއްޖޭގައި ފަހަކަށް އައިސް ކޮންމެ ދުވަހަކުހެން މީހުން މަރުވެ\n",
      "Transcribed for audio - common_voice_dv_27181806.mp3: ދިވެހިރާއްޖޭގައި ފަހަކަށް އައިސް ކޮންމެ ދުވަހަކުހެން މީހުން މަރުވެ\n",
      "---\n",
      "Ground truth for audio - common_voice_dv_25828239.mp3: ހަމައެއްކަރު ދާހެއްގައި އެއްގަލަމަކުން އެއްކުލާކުން އިބާރާތްކޮށް އެއޮތީ ރުކާންގެ ނުބައި ރޭއްވުމުގެ ހެކިތަށް\n",
      "Transcribed for audio - common_voice_dv_25828239.mp3: ހަމަ އެއްކަރުދާހެއްގައި އެއްގަލަމަކުން އެއްކުލައަކުން އިބާރާތްކޮށް އެއޮތީ ރުކާންގެ ނުބައި ރޭވުމުގެ ހެކިތައް\n",
      "---\n",
      "Ground truth for audio - common_voice_dv_26897309.mp3: ކުލައިހަކަށް ހަދާނަންއައި އަޅުގަނޑުގެ ވަރަށް ގާތް ރަޙްމަތްތެރެއް ސޫދާން މީހަކު ކިޔައިދިން ވާހަގައެއް\n",
      "Transcribed for audio - common_voice_dv_26897309.mp3: ކުއްލިއަކަށް ހަނދާނަށް އައީ އަޅުގަނޑުގެ ވަރަށް ގާތް ރަހުމަތްތެރި ސޫދާނު މީހަކު ކިޔައިދިން ވާހަކައެއް\n",
      "---\n",
      "Ground truth for audio - common_voice_dv_26669954.mp3: މިތަނުން ފުންނާބު އޮސް ވައިވާނަކަށް އަރައިގެން ހުރީ ކާގު\n",
      "Transcribed for audio - common_voice_dv_26669954.mp3: މިއަދު އަހަންނަކީ ސަރުކާރު ވަޒިފާ އެއް އަދާ ކުރަމުން އަންނަ ތުއްތު ކުއްޖެއްގެ މަންމައެއް\n"
     ]
    }
   ],
   "source": [
    "print(f\"Ground truth for audio - {test_sample['path'][0]}: {transcription_0}\")\n",
    "print(f\"Transcribed for audio - {test_sample['path'][0]}: {test_sample['sentence'][0]}\")\n",
    "print(\"---\")\n",
    "print(f\"Ground truth for audio - {test_sample['path'][1]}: {transcription_1}\")\n",
    "print(f\"Transcribed for audio - {test_sample['path'][1]}: {test_sample['sentence'][1]}\")\n",
    "print(\"---\")\n",
    "print(f\"Ground truth for audio - {test_sample['path'][2]}: {transcription_2}\")\n",
    "print(f\"Transcribed for audio - {test_sample['path'][2]}: {test_sample['sentence'][2]}\")\n",
    "print(\"---\")\n",
    "print(f\"Ground truth for audio - {test_sample['path'][3]}: {transcription_3}\")\n",
    "print(f\"Transcribed for audio - {test_sample['path'][3]}: {test_sample['sentence'][3]}\")\n",
    "print(\"---\")\n",
    "print(f\"Ground truth for audio - {test_sample['path'][4]}: {transcription_0}\")\n",
    "print(f\"Transcribed for audio - {test_sample['path'][4]}: {test_sample['sentence'][4]}\")"
   ]
  }
 ],
 "metadata": {
  "kernelspec": {
   "display_name": "speech-to-text",
   "language": "python",
   "name": "python3"
  },
  "language_info": {
   "codemirror_mode": {
    "name": "ipython",
    "version": 3
   },
   "file_extension": ".py",
   "mimetype": "text/x-python",
   "name": "python",
   "nbconvert_exporter": "python",
   "pygments_lexer": "ipython3",
   "version": "3.11.8"
  }
 },
 "nbformat": 4,
 "nbformat_minor": 2
}
